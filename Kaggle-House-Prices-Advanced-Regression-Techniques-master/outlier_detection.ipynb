{
 "cells": [
  {
   "cell_type": "code",
   "execution_count": 1,
   "metadata": {},
   "outputs": [
    {
     "name": "stderr",
     "output_type": "stream",
     "text": [
      "/Users/swang/anaconda/lib/python2.7/site-packages/matplotlib/font_manager.py:273: UserWarning: Matplotlib is building the font cache using fc-list. This may take a moment.\n",
      "  warnings.warn('Matplotlib is building the font cache using fc-list. This may take a moment.')\n"
     ]
    }
   ],
   "source": [
    "import numpy as np\n",
    "import pandas as pd\n",
    "import matplotlib.pyplot as plt\n",
    "from scipy import stats\n",
    "\n",
    "from sklearn import svm\n",
    "from sklearn.covariance import EllipticEnvelope\n",
    "%matplotlib inline"
   ]
  },
  {
   "cell_type": "code",
   "execution_count": 2,
   "metadata": {},
   "outputs": [],
   "source": [
    "train = pd.read_csv(\"./input/train.csv\") \n",
    "test = pd.read_csv(\"prediction_training.csv\").drop('Id',axis=1,inplace=False)\n",
    "origin = pd.DataFrame(train['SalePrice'])"
   ]
  },
  {
   "cell_type": "code",
   "execution_count": 3,
   "metadata": {},
   "outputs": [],
   "source": [
    "dif = np.abs(test-origin) > 12000"
   ]
  },
  {
   "cell_type": "code",
   "execution_count": 4,
   "metadata": {},
   "outputs": [],
   "source": [
    "idx = dif[dif['SalePrice']].index.tolist()"
   ]
  },
  {
   "cell_type": "code",
   "execution_count": 5,
   "metadata": {},
   "outputs": [],
   "source": [
    "train.drop(train.index[idx],inplace=True)"
   ]
  },
  {
   "cell_type": "code",
   "execution_count": 6,
   "metadata": {},
   "outputs": [
    {
     "data": {
      "text/plain": [
       "(1408, 81)"
      ]
     },
     "execution_count": 6,
     "metadata": {},
     "output_type": "execute_result"
    }
   ],
   "source": [
    "train.shape"
   ]
  },
  {
   "cell_type": "code",
   "execution_count": 7,
   "metadata": {},
   "outputs": [
    {
     "data": {
      "text/plain": [
       "[4,\n",
       " 11,\n",
       " 13,\n",
       " 20,\n",
       " 46,\n",
       " 66,\n",
       " 70,\n",
       " 167,\n",
       " 178,\n",
       " 185,\n",
       " 199,\n",
       " 224,\n",
       " 261,\n",
       " 309,\n",
       " 313,\n",
       " 318,\n",
       " 349,\n",
       " 412,\n",
       " 423,\n",
       " 440,\n",
       " 454,\n",
       " 477,\n",
       " 478,\n",
       " 523,\n",
       " 540,\n",
       " 581,\n",
       " 585,\n",
       " 588,\n",
       " 595,\n",
       " 654,\n",
       " 688,\n",
       " 691,\n",
       " 774,\n",
       " 798,\n",
       " 875,\n",
       " 898,\n",
       " 926,\n",
       " 970,\n",
       " 987,\n",
       " 1027,\n",
       " 1109,\n",
       " 1169,\n",
       " 1182,\n",
       " 1239,\n",
       " 1256,\n",
       " 1298,\n",
       " 1324,\n",
       " 1353,\n",
       " 1359,\n",
       " 1405,\n",
       " 1442,\n",
       " 1447]"
      ]
     },
     "execution_count": 7,
     "metadata": {},
     "output_type": "execute_result"
    }
   ],
   "source": [
    "idx"
   ]
  },
  {
   "cell_type": "code",
   "execution_count": null,
   "metadata": {
    "collapsed": true
   },
   "outputs": [],
   "source": []
  }
 ],
 "metadata": {
  "anaconda-cloud": {},
  "kernelspec": {
   "display_name": "Python 3",
   "language": "python",
   "name": "python3"
  },
  "language_info": {
   "codemirror_mode": {
    "name": "ipython",
    "version": 3
   },
   "file_extension": ".py",
   "mimetype": "text/x-python",
   "name": "python",
   "nbconvert_exporter": "python",
   "pygments_lexer": "ipython3",
   "version": "3.5.4"
  }
 },
 "nbformat": 4,
 "nbformat_minor": 1
}
